{
  "nbformat": 4,
  "nbformat_minor": 0,
  "metadata": {
    "colab": {
      "name": "Python Assignment-2",
      "provenance": [],
      "include_colab_link": true
    },
    "kernelspec": {
      "name": "python3",
      "display_name": "Python 3"
    }
  },
  "cells": [
    {
      "cell_type": "markdown",
      "metadata": {
        "id": "view-in-github",
        "colab_type": "text"
      },
      "source": [
        "<a href=\"https://colab.research.google.com/github/Akhila-16/Python-programs-/blob/master/Python_Assignment_2.ipynb\" target=\"_parent\"><img src=\"https://colab.research.google.com/assets/colab-badge.svg\" alt=\"Open In Colab\"/></a>"
      ]
    },
    {
      "cell_type": "markdown",
      "metadata": {
        "id": "PgCh7ohafRLn"
      },
      "source": [
        "# 1.Find minimum among three numbers.\n",
        "\n",
        "\n"
      ]
    },
    {
      "cell_type": "markdown",
      "metadata": {
        "id": "6dYEbRIcfavF"
      },
      "source": [
        ""
      ]
    },
    {
      "cell_type": "code",
      "metadata": {
        "id": "SA7qzLNxfZKX",
        "outputId": "b479253e-beb4-495f-f81f-c01b7e6c56ad",
        "colab": {
          "base_uri": "https://localhost:8080/",
          "height": 84
        }
      },
      "source": [
        "def minimum(a,b,c):\n",
        "  if (a<b) and (a<c):\n",
        "    smallest = a\n",
        "  elif (b<a) and (b<c):\n",
        "    smallest = b\n",
        "  else:\n",
        "    largest = c\n",
        "  return smallest\n",
        "a=int(input('Enter first number'))\n",
        "b=int(input('Enter second number'))\n",
        "c=int(input('Enter third number'))\n",
        "print(\"The minimum of three numbers is\" , +minimum(a,b,c))\n",
        "\n",
        "\n",
        "\n",
        "    "
      ],
      "execution_count": null,
      "outputs": [
        {
          "output_type": "stream",
          "text": [
            "Enter first number2\n",
            "Enter second number9\n",
            "Enter third number5\n",
            "The minimum of three numbers is 2\n"
          ],
          "name": "stdout"
        }
      ]
    },
    {
      "cell_type": "markdown",
      "metadata": {
        "id": "FlaqTisrhNnq"
      },
      "source": [
        "# 2.Find the GCD and LCM oftwo/three numbers"
      ]
    },
    {
      "cell_type": "code",
      "metadata": {
        "id": "64uCDGmbhfRH",
        "outputId": "c6ddcef5-06fb-4e51-f2c5-0a33e2249f09",
        "colab": {
          "base_uri": "https://localhost:8080/",
          "height": 34
        }
      },
      "source": [
        "def gcd(x,y):\n",
        "  if x > y :\n",
        "    smaller = y\n",
        "  else:\n",
        "    smaller = x\n",
        "  for i in range(1, smaller+1):\n",
        "    if((x % i == 0) and (y % i ==0)):\n",
        "      gcd = i\n",
        "  return gcd\n",
        "n1 = 10\n",
        "n2 = 15\n",
        "print(\"The GCD is \", gcd(n1,n2))\n"
      ],
      "execution_count": null,
      "outputs": [
        {
          "output_type": "stream",
          "text": [
            "The GCD is  5\n"
          ],
          "name": "stdout"
        }
      ]
    },
    {
      "cell_type": "code",
      "metadata": {
        "id": "ROBPGUfBx0xU",
        "outputId": "3d2bfafb-ea6d-407f-a692-0c0c320d8418",
        "colab": {
          "base_uri": "https://localhost:8080/",
          "height": 34
        }
      },
      "source": [
        "lcm = n1 * n2 / gcd(n1,n2)\n",
        "print(\"LCM of %d and %d is %d\" %(n1,n2,lcm))"
      ],
      "execution_count": null,
      "outputs": [
        {
          "output_type": "stream",
          "text": [
            "LCM of 10 and 15 is 30\n"
          ],
          "name": "stdout"
        }
      ]
    },
    {
      "cell_type": "markdown",
      "metadata": {
        "id": "7rUuXFHkzPak"
      },
      "source": [
        "# 3.Check whether the given number is perfect."
      ]
    },
    {
      "cell_type": "code",
      "metadata": {
        "id": "wP8c_G1xzb6a",
        "outputId": "216e7898-5319-406d-960e-13236a8eb9dd",
        "colab": {
          "base_uri": "https://localhost:8080/",
          "height": 50
        }
      },
      "source": [
        "x = int(input(\"Enter any number: \"))\n",
        "sum = 0\n",
        "for i in range(1,x):\n",
        "  if(x % i == 0):\n",
        "    sum = sum + i\n",
        "if (sum == x):\n",
        "  print(\"The number is a perfect number \")\n",
        "else:\n",
        "  print(\"The number is not a perfect number \")\n"
      ],
      "execution_count": null,
      "outputs": [
        {
          "output_type": "stream",
          "text": [
            "Enter any number: 18\n",
            "The number is not a perfect number \n"
          ],
          "name": "stdout"
        }
      ]
    },
    {
      "cell_type": "markdown",
      "metadata": {
        "id": "7gp9MkGo0rUv"
      },
      "source": [
        "# 4.Print Twin primes upto a specified limit."
      ]
    },
    {
      "cell_type": "code",
      "metadata": {
        "id": "Qv4N4dmb1BXi",
        "outputId": "44c06a1e-7cd4-4b31-f6af-9cc934048da9",
        "colab": {
          "base_uri": "https://localhost:8080/",
          "height": 151
        }
      },
      "source": [
        "def prime(n):\n",
        "  for i in range(2, n):\n",
        "    if n % i == 0:\n",
        "      return False\n",
        "  return True\n",
        "def twin_primes(start, end):\n",
        "  for i in range(start, end):\n",
        "    j = i + 2\n",
        "    if(prime(i) and prime(j)):\n",
        "      print(\"{:d} and {:d}\" .format(i, j))\n",
        "twin_primes(3,90)      \n",
        "   \n"
      ],
      "execution_count": null,
      "outputs": [
        {
          "output_type": "stream",
          "text": [
            "3 and 5\n",
            "5 and 7\n",
            "11 and 13\n",
            "17 and 19\n",
            "29 and 31\n",
            "41 and 43\n",
            "59 and 61\n",
            "71 and 73\n"
          ],
          "name": "stdout"
        }
      ]
    },
    {
      "cell_type": "markdown",
      "metadata": {
        "id": "zGvTRUsc3DT-"
      },
      "source": [
        "# 5.Print the prime numbers upto a specified limit."
      ]
    },
    {
      "cell_type": "code",
      "metadata": {
        "id": "RKG4dx7o3Q23",
        "outputId": "0de89713-cb23-4c1d-f828-d374cbc63f2b",
        "colab": {
          "base_uri": "https://localhost:8080/",
          "height": 370
        }
      },
      "source": [
        "lower = int(input(\"Enter lower range: \"))\n",
        "upper = int(input(\"Enter upper range: \"))\n",
        "for n in range(lower,upper+1):\n",
        "  if n>1:\n",
        "    for i in range(2,n):\n",
        "      if(n % i) == 0:\n",
        "        break\n",
        "    else:\n",
        "      print(n)"
      ],
      "execution_count": null,
      "outputs": [
        {
          "output_type": "stream",
          "text": [
            "Enter lower range: 15\n",
            "Enter upper range: 100\n",
            "17\n",
            "19\n",
            "23\n",
            "29\n",
            "31\n",
            "37\n",
            "41\n",
            "43\n",
            "47\n",
            "53\n",
            "59\n",
            "61\n",
            "67\n",
            "71\n",
            "73\n",
            "79\n",
            "83\n",
            "89\n",
            "97\n"
          ],
          "name": "stdout"
        }
      ]
    },
    {
      "cell_type": "markdown",
      "metadata": {
        "id": "jQBcz-Zf4gKt"
      },
      "source": [
        "# 6.Find the sum of digits of a number.Check whether given number is Amstrong number or not."
      ]
    },
    {
      "cell_type": "code",
      "metadata": {
        "id": "wl-vSV8G4wHF",
        "outputId": "bcfc6c11-a433-4385-b56a-a855086fe4e0",
        "colab": {
          "base_uri": "https://localhost:8080/",
          "height": 50
        }
      },
      "source": [
        "num = int(input(\"Enter a number: \"))\n",
        "sum = 0\n",
        "temp = num\n",
        "while temp > 0:\n",
        "  digit = temp % 10\n",
        "  sum += digit ** 3\n",
        "  temp //= 10\n",
        "if num == sum:\n",
        "  print(num,\" is an Armstrong number\")\n",
        "else:\n",
        "  print(num,\" is not an Armstrong number\")"
      ],
      "execution_count": null,
      "outputs": [
        {
          "output_type": "stream",
          "text": [
            "Enter a number: 45\n",
            "45  is not an Armstrong number\n"
          ],
          "name": "stdout"
        }
      ]
    },
    {
      "cell_type": "markdown",
      "metadata": {
        "id": "PyJbsZdu7IFb"
      },
      "source": [
        "# 7.Swapping of two numbers."
      ]
    },
    {
      "cell_type": "code",
      "metadata": {
        "id": "9tS8SseP7Ouz",
        "outputId": "a8e03f0a-f618-4f26-fd20-a108e6de9092",
        "colab": {
          "base_uri": "https://localhost:8080/",
          "height": 118
        }
      },
      "source": [
        "x=int(input(\"Enter the first value \"))\n",
        "y=int(input(\"Enter the second value \"))\n",
        "print(\"The value of x before swapping: \", x)\n",
        "print(\"The value of y before swapping: \", y)\n",
        "\n",
        "temp = x\n",
        "x = y\n",
        "y = temp\n",
        "print(\"The value of x after swapping \",x)\n",
        "print(\"The value of y after swapping \",y)\n",
        "\n",
        "\n",
        "\n",
        "\n",
        "\n",
        "\n",
        "\n",
        "\n"
      ],
      "execution_count": null,
      "outputs": [
        {
          "output_type": "stream",
          "text": [
            "Enter the first value 5\n",
            "Enter the second value 9\n",
            "The value of x before swapping:  5\n",
            "The value of y before swapping:  9\n",
            "The value of x after swapping  9\n",
            "The value of y after swapping  5\n"
          ],
          "name": "stdout"
        }
      ]
    },
    {
      "cell_type": "markdown",
      "metadata": {
        "id": "-blQt6SD9Yjf"
      },
      "source": [
        "# 8.Performs all the five arithmetic operations."
      ]
    },
    {
      "cell_type": "code",
      "metadata": {
        "id": "LIn3mQUn9jyj",
        "outputId": "a7c31f1c-8f75-4aa6-d584-af80dce004f8",
        "colab": {
          "base_uri": "https://localhost:8080/",
          "height": 134
        }
      },
      "source": [
        "n1 = int(input(\"Enter first number: \"))\n",
        "n2 = int(input(\"Enter second number: \"))\n",
        "sum = n1 + n2\n",
        "diff = n1 - n2\n",
        "mul = n1 * n2\n",
        "div = n1 / n2\n",
        "mod = n1 % n2\n",
        "print(\"The sum of {0} and {1} is {2} \".format(n1,n2,sum))\n",
        "print(\"The diff of {0} and {1} is {2} \".format(n1,n2,diff))\n",
        "print(\"The mul of {0} and {1} is {2} \".format(n1,n2,mul))\n",
        "print(\"The div of {0} and {1} is {2} \".format(n1,n2,div))\n",
        "print(\"The mod of {0} and {1} is {2} \".format(n1,n2,mod))"
      ],
      "execution_count": null,
      "outputs": [
        {
          "output_type": "stream",
          "text": [
            "Enter first number: 16\n",
            "Enter second number: 27\n",
            "The sum of 16 and 27 is 43 \n",
            "The diff of 16 and 27 is -11 \n",
            "The mul of 16 and 27 is 432 \n",
            "The div of 16 and 27 is 0.5925925925925926 \n",
            "The mod of 16 and 27 is 16 \n"
          ],
          "name": "stdout"
        }
      ]
    },
    {
      "cell_type": "markdown",
      "metadata": {
        "id": "iM3ERKOdfdC4"
      },
      "source": [
        ""
      ]
    }
  ]
}